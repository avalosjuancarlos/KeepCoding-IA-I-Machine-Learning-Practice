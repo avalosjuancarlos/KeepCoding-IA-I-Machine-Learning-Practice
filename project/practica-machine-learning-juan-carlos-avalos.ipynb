{
 "cells": [
  {
   "cell_type": "markdown",
   "id": "920ebf3e-a226-494f-b29f-e7f01c059858",
   "metadata": {},
   "source": [
    "# Tarea\n",
    "## Es un problema de regresión: tenéis que predecir el precio del airbnb utilizando los datos disponibles."
   ]
  },
  {
   "cell_type": "markdown",
   "id": "85f5c0ea-3842-41c2-b16c-be2c183455fd",
   "metadata": {},
   "source": [
    "# 1. Preparación de datos: División train/test\n"
   ]
  },
  {
   "cell_type": "code",
   "execution_count": 1,
   "id": "268b85d6-e98a-45b5-8e11-ce5f7b618ec3",
   "metadata": {},
   "outputs": [],
   "source": [
    "# Agregamos todos las librerias base con las que vamos a trabajar\n",
    "import pandas as pd\n",
    "import numpy as np\n",
    "import matplotlib.pyplot as plt\n",
    "%matplotlib inline"
   ]
  },
  {
   "cell_type": "code",
   "execution_count": 2,
   "id": "694399a5-0559-47a4-8657-b651b7406c8f",
   "metadata": {},
   "outputs": [],
   "source": [
    "# Como vamos a dividir el dataset en Train y Test agregamos la libreria de sklearn\n",
    "from sklearn.model_selection import train_test_split"
   ]
  },
  {
   "cell_type": "code",
   "execution_count": 7,
   "id": "45d2fbe3-32c7-4b68-9257-01af303daae8",
   "metadata": {},
   "outputs": [
    {
     "name": "stdout",
     "output_type": "stream",
     "text": [
      "<class 'pandas.core.frame.DataFrame'>\n",
      "RangeIndex: 14780 entries, 0 to 14779\n",
      "Data columns (total 89 columns):\n",
      " #   Column                          Non-Null Count  Dtype  \n",
      "---  ------                          --------------  -----  \n",
      " 0   ID                              14780 non-null  int64  \n",
      " 1   Listing Url                     14780 non-null  object \n",
      " 2   Scrape ID                       14780 non-null  int64  \n",
      " 3   Last Scraped                    14780 non-null  object \n",
      " 4   Name                            14779 non-null  object \n",
      " 5   Summary                         14189 non-null  object \n",
      " 6   Space                           10888 non-null  object \n",
      " 7   Description                     14774 non-null  object \n",
      " 8   Experiences Offered             14780 non-null  object \n",
      " 9   Neighborhood Overview           9134 non-null   object \n",
      " 10  Notes                           5644 non-null   object \n",
      " 11  Transit                         9066 non-null   object \n",
      " 12  Access                          8318 non-null   object \n",
      " 13  Interaction                     8226 non-null   object \n",
      " 14  House Rules                     9619 non-null   object \n",
      " 15  Thumbnail Url                   11960 non-null  object \n",
      " 16  Medium Url                      11960 non-null  object \n",
      " 17  Picture Url                     14761 non-null  object \n",
      " 18  XL Picture Url                  11960 non-null  object \n",
      " 19  Host ID                         14780 non-null  int64  \n",
      " 20  Host URL                        14780 non-null  object \n",
      " 21  Host Name                       14777 non-null  object \n",
      " 22  Host Since                      14777 non-null  object \n",
      " 23  Host Location                   14737 non-null  object \n",
      " 24  Host About                      9539 non-null   object \n",
      " 25  Host Response Time              12881 non-null  object \n",
      " 26  Host Response Rate              12881 non-null  float64\n",
      " 27  Host Acceptance Rate            39 non-null     object \n",
      " 28  Host Thumbnail Url              14777 non-null  object \n",
      " 29  Host Picture Url                14777 non-null  object \n",
      " 30  Host Neighbourhood              10904 non-null  object \n",
      " 31  Host Listings Count             14777 non-null  float64\n",
      " 32  Host Total Listings Count       14777 non-null  float64\n",
      " 33  Host Verifications              14771 non-null  object \n",
      " 34  Street                          14780 non-null  object \n",
      " 35  Neighbourhood                   9551 non-null   object \n",
      " 36  Neighbourhood Cleansed          14780 non-null  object \n",
      " 37  Neighbourhood Group Cleansed    13760 non-null  object \n",
      " 38  City                            14774 non-null  object \n",
      " 39  State                           14636 non-null  object \n",
      " 40  Zipcode                         14274 non-null  object \n",
      " 41  Market                          14723 non-null  object \n",
      " 42  Smart Location                  14780 non-null  object \n",
      " 43  Country Code                    14780 non-null  object \n",
      " 44  Country                         14779 non-null  object \n",
      " 45  Latitude                        14780 non-null  float64\n",
      " 46  Longitude                       14780 non-null  float64\n",
      " 47  Property Type                   14780 non-null  object \n",
      " 48  Room Type                       14780 non-null  object \n",
      " 49  Accommodates                    14780 non-null  int64  \n",
      " 50  Bathrooms                       14725 non-null  float64\n",
      " 51  Bedrooms                        14755 non-null  float64\n",
      " 52  Beds                            14731 non-null  float64\n",
      " 53  Bed Type                        14780 non-null  object \n",
      " 54  Amenities                       14610 non-null  object \n",
      " 55  Square Feet                     598 non-null    float64\n",
      " 56  Price                           14763 non-null  float64\n",
      " 57  Weekly Price                    3590 non-null   float64\n",
      " 58  Monthly Price                   3561 non-null   float64\n",
      " 59  Security Deposit                6256 non-null   float64\n",
      " 60  Cleaning Fee                    8687 non-null   float64\n",
      " 61  Guests Included                 14780 non-null  int64  \n",
      " 62  Extra People                    14780 non-null  int64  \n",
      " 63  Minimum Nights                  14780 non-null  int64  \n",
      " 64  Maximum Nights                  14780 non-null  int64  \n",
      " 65  Calendar Updated                14780 non-null  object \n",
      " 66  Has Availability                12 non-null     object \n",
      " 67  Availability 30                 14780 non-null  int64  \n",
      " 68  Availability 60                 14780 non-null  int64  \n",
      " 69  Availability 90                 14780 non-null  int64  \n",
      " 70  Availability 365                14780 non-null  int64  \n",
      " 71  Calendar last Scraped           14780 non-null  object \n",
      " 72  Number of Reviews               14780 non-null  int64  \n",
      " 73  First Review                    11618 non-null  object \n",
      " 74  Last Review                     11617 non-null  object \n",
      " 75  Review Scores Rating            11476 non-null  float64\n",
      " 76  Review Scores Accuracy          11454 non-null  float64\n",
      " 77  Review Scores Cleanliness       11460 non-null  float64\n",
      " 78  Review Scores Checkin           11443 non-null  float64\n",
      " 79  Review Scores Communication     11460 non-null  float64\n",
      " 80  Review Scores Location          11440 non-null  float64\n",
      " 81  Review Scores Value             11439 non-null  float64\n",
      " 82  License                         349 non-null    object \n",
      " 83  Jurisdiction Names              227 non-null    object \n",
      " 84  Cancellation Policy             14780 non-null  object \n",
      " 85  Calculated host listings count  14776 non-null  float64\n",
      " 86  Reviews per Month               11618 non-null  float64\n",
      " 87  Geolocation                     14780 non-null  object \n",
      " 88  Features                        14779 non-null  object \n",
      "dtypes: float64(23), int64(13), object(53)\n",
      "memory usage: 10.0+ MB\n"
     ]
    }
   ],
   "source": [
    "# leemos el CSV y lo almacenamos en una variable\n",
    "airbnb_full_df = pd.read_csv(\"./airbnb-listings-extract.csv\", delimiter=\";\")\n",
    "\n",
    "# Obtenemos la información del dataset\n",
    "airbnb_full_df.info()"
   ]
  },
  {
   "cell_type": "code",
   "execution_count": 8,
   "id": "98d20117-8864-4d8e-9af5-122e97491e5e",
   "metadata": {},
   "outputs": [],
   "source": [
    "#dividimos el dataset en Train y Test\n",
    "train, test = train_test_split(airbnb_full_df, test_size=0.2, shuffle=True, random_state=0)"
   ]
  },
  {
   "cell_type": "code",
   "execution_count": 9,
   "id": "ceb1caba-6d3e-4756-9767-faec55573004",
   "metadata": {},
   "outputs": [
    {
     "name": "stdout",
     "output_type": "stream",
     "text": [
      "Dimensiones del dataset de training: (11824, 89)\n",
      "Dimensiones del dataset de test: (2956, 89)\n"
     ]
    }
   ],
   "source": [
    "print(f'Dimensiones del dataset de training: {train.shape}')\n",
    "print(f'Dimensiones del dataset de test: {test.shape}')\n",
    "\n",
    "# Guardamos\n",
    "train.to_csv('./airbnb_train.csv', sep=';', decimal='.', index=False)\n",
    "test.to_csv('./airbnb_test.csv', sep=';', decimal='.', index=False)"
   ]
  },
  {
   "cell_type": "code",
   "execution_count": null,
   "id": "3e52ae63-fcef-4aaa-b636-343ec5d5b081",
   "metadata": {},
   "outputs": [],
   "source": []
  }
 ],
 "metadata": {
  "kernelspec": {
   "display_name": "Python 3 (ipykernel)",
   "language": "python",
   "name": "python3"
  },
  "language_info": {
   "codemirror_mode": {
    "name": "ipython",
    "version": 3
   },
   "file_extension": ".py",
   "mimetype": "text/x-python",
   "name": "python",
   "nbconvert_exporter": "python",
   "pygments_lexer": "ipython3",
   "version": "3.12.2"
  }
 },
 "nbformat": 4,
 "nbformat_minor": 5
}
